{
 "cells": [
  {
   "cell_type": "markdown",
   "id": "c13a4338",
   "metadata": {},
   "source": [
    "# Understanding the Birthday Problem"
   ]
  },
  {
   "cell_type": "markdown",
   "id": "c7819c7d",
   "metadata": {},
   "source": [
    "In statistics, the birthday problem represents the probability that, in a set of n randomly chosen people, at least two will share a birthday."
   ]
  },
  {
   "cell_type": "markdown",
   "id": "c0c0ba22",
   "metadata": {},
   "source": [
    "Surprisingly, although not easy to understand at first sight, the probability of a shared birthday exceeds 50% in a group of only 23 people."
   ]
  },
  {
   "cell_type": "markdown",
   "id": "ccfa9847",
   "metadata": {},
   "source": [
    "This problem is also called a veridical paradox: it seems like it is not true, but it's in fact true."
   ]
  },
  {
   "cell_type": "markdown",
   "id": "6f391f59",
   "metadata": {},
   "source": [
    "## 1. The Statistical Intuition of the Birthday Problem"
   ]
  },
  {
   "cell_type": "markdown",
   "id": "d0b926cc",
   "metadata": {},
   "source": [
    "Assume we have 23 people in a room. "
   ]
  },
  {
   "cell_type": "markdown",
   "id": "070a7194",
   "metadata": {},
   "source": [
    "* With 23 people, there will be 253 pairs:"
   ]
  },
  {
   "cell_type": "code",
   "execution_count": 4,
   "id": "2cdc36cf",
   "metadata": {},
   "outputs": [
    {
     "data": {
      "text/plain": [
       "253.0"
      ]
     },
     "execution_count": 4,
     "metadata": {},
     "output_type": "execute_result"
    }
   ],
   "source": [
    "(23 * 22) / 2"
   ]
  },
  {
   "cell_type": "markdown",
   "id": "65ae60c8",
   "metadata": {},
   "source": [
    "* And the probability of 2 people having different birthday is "
   ]
  },
  {
   "cell_type": "code",
   "execution_count": 5,
   "id": "125dd172",
   "metadata": {},
   "outputs": [
    {
     "data": {
      "text/plain": [
       "0.9972602739726028"
      ]
     },
     "execution_count": 5,
     "metadata": {},
     "output_type": "execute_result"
    }
   ],
   "source": [
    "1 - (1 / 365)"
   ]
  },
  {
   "cell_type": "markdown",
   "id": "8ab61814",
   "metadata": {},
   "source": [
    "P(2 people having different birthdays) = 1 - P (Two people having the same birthday)"
   ]
  },
  {
   "cell_type": "markdown",
   "id": "f33ab9e0",
   "metadata": {},
   "source": [
    "* Hence, given 23 people, who has 253 pairs, the probability of at least two people sharing a birthday is: "
   ]
  },
  {
   "cell_type": "code",
   "execution_count": 6,
   "id": "363cac39",
   "metadata": {},
   "outputs": [
    {
     "data": {
      "text/plain": [
       "0.4995228459634194"
      ]
     },
     "execution_count": 6,
     "metadata": {},
     "output_type": "execute_result"
    }
   ],
   "source": [
    "(364/365)**253"
   ]
  },
  {
   "cell_type": "markdown",
   "id": "972186bd",
   "metadata": {},
   "source": [
    "Seems odd, and surprising, right? "
   ]
  },
  {
   "cell_type": "markdown",
   "id": "4007cc8f",
   "metadata": {},
   "source": [
    "## 2. Experimental Intuition of the Birthday Problem"
   ]
  },
  {
   "cell_type": "markdown",
   "id": "dbd08042",
   "metadata": {},
   "source": [
    "Now, let's set up an experimental environment for the birthday problem to test this statistically."
   ]
  },
  {
   "cell_type": "markdown",
   "id": "d890a2ea",
   "metadata": {},
   "source": [
    "### 2.1. Import the required functions"
   ]
  },
  {
   "cell_type": "code",
   "execution_count": 34,
   "id": "dd571c11",
   "metadata": {},
   "outputs": [],
   "source": [
    "import random\n",
    "import pandas as pd\n",
    "import matplotlib.pyplot as plt\n",
    "%matplotlib inline"
   ]
  },
  {
   "cell_type": "markdown",
   "id": "9fefe3d2",
   "metadata": {},
   "source": [
    "### 2.2. Define a function to calculate the probability"
   ]
  },
  {
   "cell_type": "markdown",
   "id": "2d380fe8",
   "metadata": {},
   "source": [
    "In this function: \n",
    "\n",
    "* We will assign a number between 0 to 365 to each person, each number will represent a day in the year. \n",
    "\n",
    "* Then, we will take these days and check if there are any duplicates. \n",
    "        If there is a duplicate, the value of the trial will be 1,  \n",
    "        If there are no any duplicates (meaning there is no at least two people sharing the same birthday), then the trial will have the value of 0.\n",
    "\n",
    "* In the end, to get the experimental probability, we will divide the total number of experiments having the value of 1 with the total number of trials. "
   ]
  },
  {
   "cell_type": "code",
   "execution_count": 23,
   "id": "cfbdb032",
   "metadata": {},
   "outputs": [],
   "source": [
    "def birthday_paradox_calculator(number_of_people: int, number_of_trials: int = 1000) -> float:\n",
    "    \"\"\"Calculates the probability of at least two people sharing a birthday, in a room full of number_of_people,\n",
    "    using experimental probability.\n",
    "            Parameters:\n",
    "                number_of_people (int): An integer\n",
    "                number_of_trials (int): Another integer\n",
    "\n",
    "            Returns:\n",
    "                probability (float): The outcome of, out of number_of_people, at least two randomly chosen numbers\n",
    "                will be equal in number_of_trials\n",
    "    \"\"\"\n",
    "    sum_of_true = 0  # Sum of the total occurrences of at least two people having the same birthday\n",
    "\n",
    "    for i in range(0, number_of_trials):\n",
    "        birthdays = list()\n",
    "\n",
    "        for j in range(0, number_of_people):\n",
    "            birthdays.append(random.randint(0, 365))\n",
    "\n",
    "        birthday_occurrences = [birthdays.count(birthday) for birthday in birthdays]\n",
    "\n",
    "        for k in birthday_occurrences:\n",
    "            if k > 1:\n",
    "                sum_of_true += 1\n",
    "                break\n",
    "\n",
    "    probability = sum_of_true / number_of_trials\n",
    "\n",
    "    return probability"
   ]
  },
  {
   "cell_type": "code",
   "execution_count": 24,
   "id": "ed461842",
   "metadata": {},
   "outputs": [
    {
     "data": {
      "text/plain": [
       "0.507"
      ]
     },
     "execution_count": 24,
     "metadata": {},
     "output_type": "execute_result"
    }
   ],
   "source": [
    "birthday_paradox_calculator(number_of_people = 23, number_of_trials = 1000)"
   ]
  },
  {
   "cell_type": "markdown",
   "id": "8e5b8e1c",
   "metadata": {},
   "source": [
    "The answer stands still surprisingly! "
   ]
  },
  {
   "cell_type": "markdown",
   "id": "43ac99b3",
   "metadata": {},
   "source": [
    "* Hence, we here verify that in a room full of 23 people (assuming they were born in the same year), the probability that at least two people share a birthday is ~50%"
   ]
  },
  {
   "cell_type": "markdown",
   "id": "abfa5a73",
   "metadata": {},
   "source": [
    "### The Continuation of the Inquiry"
   ]
  },
  {
   "cell_type": "markdown",
   "id": "575053a9",
   "metadata": {},
   "source": [
    "Now, we have the function birthday_paradox_calculator, we can check out this problem for many number of people."
   ]
  },
  {
   "cell_type": "markdown",
   "id": "40bbcc58",
   "metadata": {},
   "source": [
    "For example, let's check the probability for 10 - 20 - 30 - 40 - 50 people as well. "
   ]
  },
  {
   "cell_type": "code",
   "execution_count": 20,
   "id": "dcee8645",
   "metadata": {},
   "outputs": [
    {
     "name": "stdout",
     "output_type": "stream",
     "text": [
      "====================================================================================================\n",
      "For 10 people, the probability is 0.12\n",
      "====================================================================================================\n",
      "For 20 people, the probability is 0.408\n",
      "====================================================================================================\n",
      "For 30 people, the probability is 0.712\n",
      "====================================================================================================\n",
      "For 40 people, the probability is 0.916\n",
      "====================================================================================================\n",
      "For 50 people, the probability is 0.967\n"
     ]
    }
   ],
   "source": [
    "for i in range(10, 60, 10):\n",
    "    probability = birthday_paradox_calculator(number_of_people = i, number_of_trials = 1000)\n",
    "    print(\"=\"*100)\n",
    "    print(f\"For {i} people, the probability is {probability}\")"
   ]
  },
  {
   "cell_type": "markdown",
   "id": "df2f1afd",
   "metadata": {},
   "source": [
    "Now, let's calculate this for every possible number of people, from 2 to 365, and make a graph out of it."
   ]
  },
  {
   "cell_type": "markdown",
   "id": "8a744b81",
   "metadata": {},
   "source": [
    "#### Calculate the probability for every possibility, and assign it to a list.\n",
    "\n"
   ]
  },
  {
   "cell_type": "code",
   "execution_count": 29,
   "id": "c3f85f33",
   "metadata": {},
   "outputs": [],
   "source": [
    "probabilities = list()\n",
    "\n",
    "for i in range(1, 366):\n",
    "    probability = birthday_paradox_calculator(number_of_people = i)\n",
    "    probabilities.append(probability)"
   ]
  },
  {
   "cell_type": "code",
   "execution_count": 30,
   "id": "909feeed",
   "metadata": {},
   "outputs": [
    {
     "data": {
      "text/plain": [
       "[0.0,\n",
       " 0.007,\n",
       " 0.008,\n",
       " 0.019,\n",
       " 0.032,\n",
       " 0.044,\n",
       " 0.051,\n",
       " 0.074,\n",
       " 0.084,\n",
       " 0.127,\n",
       " 0.148,\n",
       " 0.165,\n",
       " 0.195,\n",
       " 0.208,\n",
       " 0.252,\n",
       " 0.3,\n",
       " 0.285,\n",
       " 0.355,\n",
       " 0.376,\n",
       " 0.416,\n",
       " 0.466,\n",
       " 0.456,\n",
       " 0.504,\n",
       " 0.525,\n",
       " 0.57,\n",
       " 0.572,\n",
       " 0.654,\n",
       " 0.637,\n",
       " 0.687,\n",
       " 0.693,\n",
       " 0.72,\n",
       " 0.768,\n",
       " 0.797,\n",
       " 0.791,\n",
       " 0.799,\n",
       " 0.834,\n",
       " 0.856,\n",
       " 0.881,\n",
       " 0.877,\n",
       " 0.889,\n",
       " 0.895,\n",
       " 0.916,\n",
       " 0.928,\n",
       " 0.924,\n",
       " 0.957,\n",
       " 0.937,\n",
       " 0.941,\n",
       " 0.958,\n",
       " 0.962,\n",
       " 0.969,\n",
       " 0.971,\n",
       " 0.976,\n",
       " 0.976,\n",
       " 0.985,\n",
       " 0.983,\n",
       " 0.989,\n",
       " 0.988,\n",
       " 0.991,\n",
       " 0.998,\n",
       " 0.992,\n",
       " 0.997,\n",
       " 0.999,\n",
       " 0.997,\n",
       " 0.999,\n",
       " 0.996,\n",
       " 0.998,\n",
       " 0.997,\n",
       " 0.999,\n",
       " 0.996,\n",
       " 1.0,\n",
       " 0.997,\n",
       " 1.0,\n",
       " 0.999,\n",
       " 1.0,\n",
       " 1.0,\n",
       " 1.0,\n",
       " 1.0,\n",
       " 1.0,\n",
       " 1.0,\n",
       " 1.0,\n",
       " 1.0,\n",
       " 1.0,\n",
       " 1.0,\n",
       " 1.0,\n",
       " 1.0,\n",
       " 1.0,\n",
       " 1.0,\n",
       " 1.0,\n",
       " 1.0,\n",
       " 1.0,\n",
       " 1.0,\n",
       " 1.0,\n",
       " 1.0,\n",
       " 1.0,\n",
       " 1.0,\n",
       " 1.0,\n",
       " 1.0,\n",
       " 1.0,\n",
       " 1.0,\n",
       " 1.0,\n",
       " 1.0,\n",
       " 1.0,\n",
       " 1.0,\n",
       " 1.0,\n",
       " 1.0,\n",
       " 1.0,\n",
       " 1.0,\n",
       " 1.0,\n",
       " 1.0,\n",
       " 1.0,\n",
       " 1.0,\n",
       " 1.0,\n",
       " 1.0,\n",
       " 1.0,\n",
       " 1.0,\n",
       " 1.0,\n",
       " 1.0,\n",
       " 1.0,\n",
       " 1.0,\n",
       " 1.0,\n",
       " 1.0,\n",
       " 1.0,\n",
       " 1.0,\n",
       " 1.0,\n",
       " 1.0,\n",
       " 1.0,\n",
       " 1.0,\n",
       " 1.0,\n",
       " 1.0,\n",
       " 1.0,\n",
       " 1.0,\n",
       " 1.0,\n",
       " 1.0,\n",
       " 1.0,\n",
       " 1.0,\n",
       " 1.0,\n",
       " 1.0,\n",
       " 1.0,\n",
       " 1.0,\n",
       " 1.0,\n",
       " 1.0,\n",
       " 1.0,\n",
       " 1.0,\n",
       " 1.0,\n",
       " 1.0,\n",
       " 1.0,\n",
       " 1.0,\n",
       " 1.0,\n",
       " 1.0,\n",
       " 1.0,\n",
       " 1.0,\n",
       " 1.0,\n",
       " 1.0,\n",
       " 1.0,\n",
       " 1.0,\n",
       " 1.0,\n",
       " 1.0,\n",
       " 1.0,\n",
       " 1.0,\n",
       " 1.0,\n",
       " 1.0,\n",
       " 1.0,\n",
       " 1.0,\n",
       " 1.0,\n",
       " 1.0,\n",
       " 1.0,\n",
       " 1.0,\n",
       " 1.0,\n",
       " 1.0,\n",
       " 1.0,\n",
       " 1.0,\n",
       " 1.0,\n",
       " 1.0,\n",
       " 1.0,\n",
       " 1.0,\n",
       " 1.0,\n",
       " 1.0,\n",
       " 1.0,\n",
       " 1.0,\n",
       " 1.0,\n",
       " 1.0,\n",
       " 1.0,\n",
       " 1.0,\n",
       " 1.0,\n",
       " 1.0,\n",
       " 1.0,\n",
       " 1.0,\n",
       " 1.0,\n",
       " 1.0,\n",
       " 1.0,\n",
       " 1.0,\n",
       " 1.0,\n",
       " 1.0,\n",
       " 1.0,\n",
       " 1.0,\n",
       " 1.0,\n",
       " 1.0,\n",
       " 1.0,\n",
       " 1.0,\n",
       " 1.0,\n",
       " 1.0,\n",
       " 1.0,\n",
       " 1.0,\n",
       " 1.0,\n",
       " 1.0,\n",
       " 1.0,\n",
       " 1.0,\n",
       " 1.0,\n",
       " 1.0,\n",
       " 1.0,\n",
       " 1.0,\n",
       " 1.0,\n",
       " 1.0,\n",
       " 1.0,\n",
       " 1.0,\n",
       " 1.0,\n",
       " 1.0,\n",
       " 1.0,\n",
       " 1.0,\n",
       " 1.0,\n",
       " 1.0,\n",
       " 1.0,\n",
       " 1.0,\n",
       " 1.0,\n",
       " 1.0,\n",
       " 1.0,\n",
       " 1.0,\n",
       " 1.0,\n",
       " 1.0,\n",
       " 1.0,\n",
       " 1.0,\n",
       " 1.0,\n",
       " 1.0,\n",
       " 1.0,\n",
       " 1.0,\n",
       " 1.0,\n",
       " 1.0,\n",
       " 1.0,\n",
       " 1.0,\n",
       " 1.0,\n",
       " 1.0,\n",
       " 1.0,\n",
       " 1.0,\n",
       " 1.0,\n",
       " 1.0,\n",
       " 1.0,\n",
       " 1.0,\n",
       " 1.0,\n",
       " 1.0,\n",
       " 1.0,\n",
       " 1.0,\n",
       " 1.0,\n",
       " 1.0,\n",
       " 1.0,\n",
       " 1.0,\n",
       " 1.0,\n",
       " 1.0,\n",
       " 1.0,\n",
       " 1.0,\n",
       " 1.0,\n",
       " 1.0,\n",
       " 1.0,\n",
       " 1.0,\n",
       " 1.0,\n",
       " 1.0,\n",
       " 1.0,\n",
       " 1.0,\n",
       " 1.0,\n",
       " 1.0,\n",
       " 1.0,\n",
       " 1.0,\n",
       " 1.0,\n",
       " 1.0,\n",
       " 1.0,\n",
       " 1.0,\n",
       " 1.0,\n",
       " 1.0,\n",
       " 1.0,\n",
       " 1.0,\n",
       " 1.0,\n",
       " 1.0,\n",
       " 1.0,\n",
       " 1.0,\n",
       " 1.0,\n",
       " 1.0,\n",
       " 1.0,\n",
       " 1.0,\n",
       " 1.0,\n",
       " 1.0,\n",
       " 1.0,\n",
       " 1.0,\n",
       " 1.0,\n",
       " 1.0,\n",
       " 1.0,\n",
       " 1.0,\n",
       " 1.0,\n",
       " 1.0,\n",
       " 1.0,\n",
       " 1.0,\n",
       " 1.0,\n",
       " 1.0,\n",
       " 1.0,\n",
       " 1.0,\n",
       " 1.0,\n",
       " 1.0,\n",
       " 1.0,\n",
       " 1.0,\n",
       " 1.0,\n",
       " 1.0,\n",
       " 1.0,\n",
       " 1.0,\n",
       " 1.0,\n",
       " 1.0,\n",
       " 1.0,\n",
       " 1.0,\n",
       " 1.0,\n",
       " 1.0,\n",
       " 1.0,\n",
       " 1.0,\n",
       " 1.0,\n",
       " 1.0,\n",
       " 1.0,\n",
       " 1.0,\n",
       " 1.0,\n",
       " 1.0,\n",
       " 1.0,\n",
       " 1.0,\n",
       " 1.0,\n",
       " 1.0,\n",
       " 1.0,\n",
       " 1.0,\n",
       " 1.0,\n",
       " 1.0,\n",
       " 1.0,\n",
       " 1.0,\n",
       " 1.0,\n",
       " 1.0,\n",
       " 1.0,\n",
       " 1.0,\n",
       " 1.0,\n",
       " 1.0,\n",
       " 1.0,\n",
       " 1.0,\n",
       " 1.0,\n",
       " 1.0,\n",
       " 1.0,\n",
       " 1.0,\n",
       " 1.0,\n",
       " 1.0,\n",
       " 1.0,\n",
       " 1.0,\n",
       " 1.0,\n",
       " 1.0,\n",
       " 1.0,\n",
       " 1.0,\n",
       " 1.0,\n",
       " 1.0,\n",
       " 1.0,\n",
       " 1.0,\n",
       " 1.0,\n",
       " 1.0,\n",
       " 1.0,\n",
       " 1.0,\n",
       " 1.0,\n",
       " 1.0]"
      ]
     },
     "execution_count": 30,
     "metadata": {},
     "output_type": "execute_result"
    }
   ],
   "source": [
    "probabilities"
   ]
  },
  {
   "cell_type": "code",
   "execution_count": 31,
   "id": "32d6eed6",
   "metadata": {},
   "outputs": [],
   "source": [
    "indexes = [i for i in range(1, 366)]"
   ]
  },
  {
   "cell_type": "code",
   "execution_count": 46,
   "id": "fcd0c567",
   "metadata": {},
   "outputs": [],
   "source": [
    "birthday_probabilities = pd.Series(probabilities, index=indexes)"
   ]
  },
  {
   "cell_type": "code",
   "execution_count": 38,
   "id": "62abbf29",
   "metadata": {},
   "outputs": [
    {
     "data": {
      "text/plain": [
       "Text(0, 0.5, 'Probability')"
      ]
     },
     "execution_count": 38,
     "metadata": {},
     "output_type": "execute_result"
    },
    {
     "data": {
      "image/png": "[encoded data removed]",
      "text/plain": [
       "<Figure size 432x288 with 1 Axes>"
      ]
     },
     "metadata": {
      "needs_background": "light"
     },
     "output_type": "display_data"
    }
   ],
   "source": [
    "plt.plot(birthday_probabilities.index, birthday_probabilities.values)\n",
    "plt.title(\"The Birthday Paradox\")\n",
    "plt.xlabel(\"Number of people in a room\")\n",
    "plt.ylabel(\"Probability\")"
   ]
  },
  {
   "cell_type": "markdown",
   "id": "5062b166",
   "metadata": {},
   "source": [
    "As we can see from the graph, after a certain point, around 60-70 (number of people), the probability goes to 1 and it is certain that two people will share a birthday."
   ]
  },
  {
   "cell_type": "markdown",
   "id": "05f019cd",
   "metadata": {},
   "source": [
    "Now, let's graph this for the values 0 to 100, to have a better looking graph."
   ]
  },
  {
   "cell_type": "code",
   "execution_count": 44,
   "id": "348bbfcc",
   "metadata": {},
   "outputs": [
    {
     "data": {
      "text/plain": [
       "<matplotlib.patches.Polygon at 0x22c35f70760>"
      ]
     },
     "execution_count": 44,
     "metadata": {},
     "output_type": "execute_result"
    },
    {
     "data": {
      "image/png": "[encoded data removed]",
      "text/plain": [
       "<Figure size 432x288 with 1 Axes>"
      ]
     },
     "metadata": {
      "needs_background": "light"
     },
     "output_type": "display_data"
    }
   ],
   "source": [
    "plt.plot(birthday_probabilities.index[0:100], birthday_probabilities.values[0:100])\n",
    "plt.title(\"The Birthday Paradox\")\n",
    "plt.xlabel(\"Number of people in a room\")\n",
    "plt.ylabel(\"Probability\")\n",
    "plt.axvspan(20, 60, color='red', alpha=0.5)"
   ]
  },
  {
   "cell_type": "markdown",
   "id": "9b016e07",
   "metadata": {},
   "source": [
    "This is the regien where the probability increases significantly."
   ]
  },
  {
   "cell_type": "code",
   "execution_count": null,
   "id": "82e0207f",
   "metadata": {},
   "outputs": [],
   "source": []
  }
 ],
 "metadata": {
  "kernelspec": {
   "display_name": "Python 3",
   "language": "python",
   "name": "python3"
  },
  "language_info": {
   "codemirror_mode": {
    "name": "ipython",
    "version": 3
   },
   "file_extension": ".py",
   "mimetype": "text/x-python",
   "name": "python",
   "nbconvert_exporter": "python",
   "pygments_lexer": "ipython3",
   "version": "3.8.8"
  }
 },
 "nbformat": 4,
 "nbformat_minor": 5
}
